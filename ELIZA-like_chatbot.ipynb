{
 "cells": [
  {
   "cell_type": "markdown",
   "metadata": {},
   "source": [
    "# A simple ELIZA-like chat bot\n",
    "Based on regular expressions substitutions.\n",
    "Following exercise 2 in \"Speech and Language Processing\" book by Jurafsky"
   ]
  },
  {
   "cell_type": "code",
   "execution_count": null,
   "metadata": {},
   "outputs": [
    {
     "name": "stdout",
     "output_type": "stream",
     "text": [
      "PLEASE, TELL ME WHAT'S BEEN BOTHERING YOU.\n"
     ]
    }
   ],
   "source": [
    "import re\n",
    "import random\n",
    "print(\"PLEASE, TELL ME WHAT'S BEEN BOTHERING YOU.\")\n",
    "\n",
    "# List of substitutions in a filtered down order including random utterances that hadn't mached any string\n",
    "regex = [\n",
    "    (r\"^(HI|HELLO|GOOD)\\b.*\", \"HI. WHAT SEEMS TO BE YOUR PROBLEM?\"),\n",
    "    (r\".*(GOOD)?BYE.*\", \"GOODBYE. I HOPE THAT YOU ENJOYED YOUR SESSION.\"),\n",
    "    (r\".*(THANK YOU|THANKS).*\", \"YOU SHOULD RATHER THANK YOURSELF.\"),\n",
    "    (r\".*(I'M|I AM) (A.*)\", \"IS IT BECAUSE YOU ARE \\\\2 THAT YOU CAME TO ME?\"),\n",
    "    (r\".*(I'M|IM) .*(DEPRESSED|SAD|ANGRY).*\", \"I AM SORRY TO HEAR YOU ARE \\\\2.\"),\n",
    "    (r\".*I AM .*(DEPRESSED|SAD|ANGRY).*\", \"WHY DO YOU THINK YOU ARE \\\\1?\"),\n",
    "    (r\".*(I AM|I'M|IM) (.*)\", \"SO YOU ARE \\\\2. WHAT DO YOU FEEL ABOUT THAT?\"),\n",
    "    (r\".*(MOTHER|FATHER|BOYFRIEND|GIRLFRIEND|WIFE|HUSBAND).*\", \"TELL ME MORE ABOUT YOUR \\\\1.\"),\n",
    "    (r\".*I WANT (.*)\", \"WHAT WOULD GETTING \\\\1 MEAN TO YOU?\"),\n",
    "    (r\".*ALL\\b.*\", \"IN WHAT WAY?\"),\n",
    "    (r\".*ALWAYS\\b.*\", \"CAN YOU THINK OF A SPECIFIC EXAMPLE?\"),\n",
    "    (r\".*SAME\\b.*\", \"WHAT RESEMBLACE DO YOU SEE?\"),\n",
    "    (r\".*(WAS|BEEN) FEEL(ING)?.*\", \"AND HOW DO YOU FEEL RIGHT NOW?\"),\n",
    "    (r\".*FEEL(ING)?.*\", \"AND HOW WOULD YOU LIKE TO BE FEELING?\"),\n",
    "    (r\".*WHAT.*\\?\", \"I DON'T ANSWER QUESTIONS, SORRY. BUT WHY DOES IT INTEREST YOU?\"),\n",
    "    (r\".*(YOU ARE|YOU'RE) (.*\\b).*\", \"WHAT MAKES YOU THINK I AM \\\\2?\"),\n",
    "    (r\".*YOU.*\", \"WE WERE DISCUSSING YOU - NOT ME.\"),\n",
    "    (r\".*I DO(N'T|NT) (.*)\", \"WHY DON'T YOU \\\\2?\"),\n",
    "    (r\".*\\?.*\", \"HAVE YOU ASKED SUCH QUESTIONS BEFORE?\"),\n",
    "    (r\".*MY (.*)\", \"DO YOU SAY YOUR \\\\1 FOR ANY SPECIFIC REASON?\"),\n",
    "    (r\".*I (.*)\", \"YOU SAY YOU \\\\1?\"),\n",
    "    (r\".*\", \"I AM NOT SURE I UNDERSTAND YOU FULLY.\"),\n",
    "    (r\".*\", \"PLEASE, GO ON...\"),\n",
    "    (r\".*\", \"CAN YOU ELABOTARE ON THAT?\"),\n",
    "    (r\".*\",\"TELL ME MORE ABOUT THAT.\"),\n",
    "    (r\".*\", \"WHAT DOES THAT SUGGEST TO YOU?\"),\n",
    "    (r\".*\", \"THAT'S QUITE INTERESTING.\"),\n",
    "    (r\".*\", \"I SEE.\")\n",
    "    \n",
    "]\n",
    "\n",
    "while(True):\n",
    "    prompt = input()\n",
    "    for i in range(len(regex)):\n",
    "        # make a random jump through the list when we exhaust all of the matching options\n",
    "        if (i == 19):\n",
    "            i = i + random.randrange(8)\n",
    "        if re.search(regex[i][0], prompt.upper()):\n",
    "            result = re.sub(*regex[i], prompt.upper(), 1)\n",
    "            print (result)\n",
    "            break"
   ]
  },
  {
   "cell_type": "code",
   "execution_count": null,
   "metadata": {
    "collapsed": true
   },
   "outputs": [],
   "source": []
  }
 ],
 "metadata": {
  "kernelspec": {
   "display_name": "Python 3",
   "language": "python",
   "name": "python3"
  },
  "language_info": {
   "codemirror_mode": {
    "name": "ipython",
    "version": 3
   },
   "file_extension": ".py",
   "mimetype": "text/x-python",
   "name": "python",
   "nbconvert_exporter": "python",
   "pygments_lexer": "ipython3",
   "version": "3.6.1"
  }
 },
 "nbformat": 4,
 "nbformat_minor": 2
}
