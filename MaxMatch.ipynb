{
 "cells": [
  {
   "cell_type": "markdown",
   "metadata": {},
   "source": [
    "# Implementation of MaxMatch algorythm\n",
    "As described in Chapter2 of \"Speech and Language Processing\" by Jurafsky"
   ]
  },
  {
   "cell_type": "code",
   "execution_count": 2,
   "metadata": {},
   "outputs": [
    {
     "name": "stdout",
     "output_type": "stream",
     "text": [
      "InolongerliveinJapan\n",
      "['in', 'o', 'longer', 'live', 'in', 'japan']\n"
     ]
    }
   ],
   "source": [
    "import nltk\n",
    "from nltk.corpus import words\n",
    "\n",
    "def MaxMatch(sent, D, result):\n",
    "    if len(sent) == 0:\n",
    "        return result\n",
    "    for i in range(len(sent), 1, -1):\n",
    "        firstword = sent[:i]\n",
    "        remainder = sent[i:]\n",
    "        if firstword in D:\n",
    "            result.append(firstword)\n",
    "            return MaxMatch(remainder, D, result)\n",
    "    # no word was not found so make a one-character word\n",
    "    firstword = sent[0]\n",
    "    remainder = sent[1:]\n",
    "    result.append(firstword)\n",
    "    return MaxMatch(remainder, D, result)\n",
    "\n",
    "D = words.words()\n",
    "sent = input().lower()\n",
    "result = []\n",
    "segmented = MaxMatch(sent, D, result)\n",
    "\n",
    "print(segmented)  "
   ]
  },
  {
   "cell_type": "markdown",
   "metadata": {},
   "source": [
    "Testing of the algorythm by removing spaces from a set of sentences. Implement the Word Error Rate metric (the number of word insertions + deletions + substitutions, divided by the length in words of the correct string) and compute the WER for the test set."
   ]
  },
  {
   "cell_type": "code",
   "execution_count": 3,
   "metadata": {},
   "outputs": [
    {
     "name": "stdout",
     "output_type": "stream",
     "text": [
      "After a while crocodile\n"
     ]
    },
    {
     "ename": "NameError",
     "evalue": "name 'MED' is not defined",
     "output_type": "error",
     "traceback": [
      "\u001b[0;31m---------------------------------------------------------------------------\u001b[0m",
      "\u001b[0;31mNameError\u001b[0m                                 Traceback (most recent call last)",
      "\u001b[0;32m<ipython-input-3-deacaf4eadd9>\u001b[0m in \u001b[0;36m<module>\u001b[0;34m()\u001b[0m\n\u001b[1;32m     12\u001b[0m \u001b[0mm\u001b[0m \u001b[0;34m=\u001b[0m \u001b[0mlen\u001b[0m\u001b[0;34m(\u001b[0m\u001b[0mgold\u001b[0m\u001b[0;34m)\u001b[0m\u001b[0;34m\u001b[0m\u001b[0m\n\u001b[1;32m     13\u001b[0m \u001b[0;34m\u001b[0m\u001b[0m\n\u001b[0;32m---> 14\u001b[0;31m \u001b[0;34m[\u001b[0m\u001b[0mD\u001b[0m\u001b[0;34m,\u001b[0m \u001b[0mcost\u001b[0m\u001b[0;34m,\u001b[0m \u001b[0mptr\u001b[0m\u001b[0;34m]\u001b[0m \u001b[0;34m=\u001b[0m \u001b[0mMED\u001b[0m\u001b[0;34m(\u001b[0m\u001b[0mresult\u001b[0m\u001b[0;34m,\u001b[0m \u001b[0mgold\u001b[0m\u001b[0;34m,\u001b[0m \u001b[0mn\u001b[0m\u001b[0;34m,\u001b[0m \u001b[0mm\u001b[0m\u001b[0;34m)\u001b[0m\u001b[0;34m\u001b[0m\u001b[0m\n\u001b[0m\u001b[1;32m     15\u001b[0m \u001b[0;34m\u001b[0m\u001b[0m\n\u001b[1;32m     16\u001b[0m \u001b[0mprint\u001b[0m\u001b[0;34m(\u001b[0m\u001b[0;34m\"Result:\"\u001b[0m\u001b[0;34m,\u001b[0m \u001b[0mresult\u001b[0m\u001b[0;34m)\u001b[0m\u001b[0;34m\u001b[0m\u001b[0m\n",
      "\u001b[0;31mNameError\u001b[0m: name 'MED' is not defined"
     ]
    }
   ],
   "source": [
    "def MED(source, target, n, m):\n",
    "    del_cost = 1\n",
    "    ins_cost = 1\n",
    "    def sub_cost(s, t):\n",
    "        if (s == t):\n",
    "            return 0\n",
    "        else:\n",
    "            return 1\n",
    "\n",
    "    # [n+1][m+1] matrix to compute edit costs\n",
    "    D = numpy.zeros((n + 1, m + 1))\n",
    "    # matrix to store backpointers, where the data is a boolean tripple {0, 1} for 3 directions: down, diag, and left \n",
    "    ptr = numpy.zeros((n + 1, m + 1, 3))\n",
    "\n",
    "    # initiate with the distances from an empty string\n",
    "    for i in range(1, n + 1):\n",
    "        D[i, 0] = D[i - 1, 0] + del_cost\n",
    "    for j in range (1, m + 1):\n",
    "        D[0, j] = D[0, j - 1] + ins_cost\n",
    "\n",
    "    # compute costs\n",
    "    for i in range(1, n + 1):\n",
    "        for j in range (1, m + 1):\n",
    "            diag = D[i - 1, j - 1] + sub_cost(source[i - 1], target[j - 1])\n",
    "            down = D[i - 1, j] + del_cost\n",
    "            left = D[i, j - 1] + ins_cost\n",
    "            D[i, j] = min(diag, down, left)\n",
    "            ptr[i, j] = (down == D[i, j], left == D[i, j], diag == D[i, j])\n",
    "    return D, int(D[n, m]), ptr\n",
    "\n",
    "txt = input()\n",
    "# remove spaces and cast to lower for a test sample\n",
    "test = txt.lower().replace(\" \", \"\")\n",
    "# convert into list of words and cast to lower for a gold sample\n",
    "gold = txt.lower().split()\n",
    "\n",
    "D = words.words()\n",
    "result = []\n",
    "result = MaxMatch(test, D, result)\n",
    "\n",
    "n = len(result)\n",
    "m = len(gold)\n",
    "\n",
    "[D, cost, ptr] = MED(result, gold, n, m) \n",
    "\n",
    "print(\"Result:\", result)\n",
    "print(D)\n",
    "print(\"Word error rate is:\", cost / m)"
   ]
  },
  {
   "cell_type": "code",
   "execution_count": null,
   "metadata": {
    "collapsed": true
   },
   "outputs": [],
   "source": []
  }
 ],
 "metadata": {
  "kernelspec": {
   "display_name": "Python 3",
   "language": "python",
   "name": "python3"
  },
  "language_info": {
   "codemirror_mode": {
    "name": "ipython",
    "version": 3
   },
   "file_extension": ".py",
   "mimetype": "text/x-python",
   "name": "python",
   "nbconvert_exporter": "python",
   "pygments_lexer": "ipython3",
   "version": "3.6.1"
  }
 },
 "nbformat": 4,
 "nbformat_minor": 2
}
